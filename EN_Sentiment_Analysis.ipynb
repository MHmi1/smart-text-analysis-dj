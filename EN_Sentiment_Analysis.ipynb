{
  "nbformat": 4,
  "nbformat_minor": 0,
  "metadata": {
    "colab": {
      "provenance": [],
      "include_colab_link": true
    },
    "kernelspec": {
      "name": "python3",
      "display_name": "Python 3"
    },
    "accelerator": "GPU"
  },
  "cells": [
    {
      "cell_type": "markdown",
      "metadata": {
        "id": "view-in-github",
        "colab_type": "text"
      },
      "source": [
        "<a href=\"https://colab.research.google.com/github/MHmi1/smart-text-analysis-dj/blob/master/EN_Sentiment_Analysis.ipynb\" target=\"_parent\"><img src=\"https://colab.research.google.com/assets/colab-badge.svg\" alt=\"Open In Colab\"/></a>"
      ]
    },
    {
      "cell_type": "markdown",
      "metadata": {
        "id": "RIp52291q_QQ"
      },
      "source": [
        "# Classify IMDB Movie Reviews using a 1D ConvNet in Deep Learning\n",
        "##### I build a 1D Convolutional nerual network using Keras to classify English movie reviews (from the IMDB dataset) based on their sentiment, into two classes - Positive and Negative"
      ]
    },
    {
      "cell_type": "markdown",
      "metadata": {
        "id": "Drt6DaMrrZQl"
      },
      "source": [
        "##Import the IMDB dataset from Keras\n",
        "##### The IMDB dataset comes inbuilt in the Keras framework"
      ]
    },
    {
      "cell_type": "code",
      "metadata": {
        "id": "Z8U_pJ5dqz0f",
        "outputId": "820e1268-78f1-4043-cfec-ef249aa24277",
        "colab": {
          "base_uri": "https://localhost:8080/"
        }
      },
      "source": [
        "# Import the dataset from keras.datasets module\n",
        "from keras.datasets import imdb\n",
        "\n",
        "# Limit the maximum size of the vocabulary to VOCAB_SIZE\n",
        "VOCAB_SIZE = 30000\n",
        "SKIP_COUNT = 0\n",
        "# Filter out sentences which are longer than MAX_LENGTH\n",
        "MAX_LENGTH = None\n",
        "\n",
        "print(\"Loading the IMDB dataset...\")\n",
        "(train_data, train_labels), (test_data, test_labels) = imdb.load_data(num_words=VOCAB_SIZE, skip_top=SKIP_COUNT, maxlen=MAX_LENGTH)\n",
        "print(\"Dataset loaded!\")"
      ],
      "execution_count": 5,
      "outputs": [
        {
          "output_type": "stream",
          "name": "stdout",
          "text": [
            "Loading the IMDB dataset...\n",
            "Downloading data from https://storage.googleapis.com/tensorflow/tf-keras-datasets/imdb.npz\n",
            "17464789/17464789 [==============================] - 0s 0us/step\n",
            "Dataset loaded!\n"
          ]
        }
      ]
    },
    {
      "cell_type": "code",
      "metadata": {
        "id": "mWyXknEp1_ik",
        "outputId": "cd155234-565c-480d-f0f7-a6f0e0959721",
        "colab": {
          "base_uri": "https://localhost:8080/"
        }
      },
      "source": [
        "print(\"Size of training set :\", len(train_data))\n",
        "print(\"Size of test set     :\", len(test_data))"
      ],
      "execution_count": 6,
      "outputs": [
        {
          "output_type": "stream",
          "name": "stdout",
          "text": [
            "Size of training set : 25000\n",
            "Size of test set     : 25000\n"
          ]
        }
      ]
    },
    {
      "cell_type": "code",
      "metadata": {
        "id": "xN1wn-rVsiEv",
        "outputId": "c8c0b787-c7c4-465c-ae2a-1875c4a4847c",
        "colab": {
          "base_uri": "https://localhost:8080/"
        }
      },
      "source": [
        "print(\"Sample training example:\")\n",
        "print(train_data[3])\n",
        "print(\"Label:\")\n",
        "print(train_labels[3])"
      ],
      "execution_count": 7,
      "outputs": [
        {
          "output_type": "stream",
          "name": "stdout",
          "text": [
            "Sample training example:\n",
            "[1, 4, 18609, 16085, 33, 2804, 4, 2040, 432, 111, 153, 103, 4, 1494, 13, 70, 131, 67, 11, 61, 15305, 744, 35, 3715, 761, 61, 5766, 452, 9214, 4, 985, 7, 2, 59, 166, 4, 105, 216, 1239, 41, 1797, 9, 15, 7, 35, 744, 2413, 31, 8, 4, 687, 23, 4, 2, 7339, 6, 3693, 42, 38, 39, 121, 59, 456, 10, 10, 7, 265, 12, 575, 111, 153, 159, 59, 16, 1447, 21, 25, 586, 482, 39, 4, 96, 59, 716, 12, 4, 172, 65, 9, 579, 11, 6004, 4, 1615, 5, 23005, 7, 5168, 17, 13, 7064, 12, 19, 6, 464, 31, 314, 11, 2, 6, 719, 605, 11, 8, 202, 27, 310, 4, 3772, 3501, 8, 2722, 58, 10, 10, 537, 2116, 180, 40, 14, 413, 173, 7, 263, 112, 37, 152, 377, 4, 537, 263, 846, 579, 178, 54, 75, 71, 476, 36, 413, 263, 2504, 182, 5, 17, 75, 2306, 922, 36, 279, 131, 2895, 17, 2867, 42, 17, 35, 921, 18435, 192, 5, 1219, 3890, 19, 20523, 217, 4122, 1710, 537, 20341, 1236, 5, 736, 10, 10, 61, 403, 9, 2, 40, 61, 4494, 5, 27, 4494, 159, 90, 263, 2311, 4319, 309, 8, 178, 5, 82, 4319, 4, 65, 15, 9225, 145, 143, 5122, 12, 7039, 537, 746, 537, 537, 15, 7979, 4, 18665, 594, 7, 5168, 94, 9096, 3987, 15242, 11, 28280, 4, 538, 7, 1795, 246, 2, 9, 10161, 11, 635, 14, 9, 51, 408, 12, 94, 318, 1382, 12, 47, 6, 2683, 936, 5, 6307, 10197, 19, 49, 7, 4, 1885, 13699, 1118, 25, 80, 126, 842, 10, 10, 2, 18223, 4726, 27, 4494, 11, 1550, 3633, 159, 27, 341, 29, 2733, 19, 4185, 173, 7, 90, 16376, 8, 30, 11, 4, 1784, 86, 1117, 8, 3261, 46, 11, 25837, 21, 29, 9, 2841, 23, 4, 1010, 26747, 793, 6, 13699, 1386, 1830, 10, 10, 246, 50, 9, 6, 2750, 1944, 746, 90, 29, 16376, 8, 124, 4, 882, 4, 882, 496, 27, 2, 2213, 537, 121, 127, 1219, 130, 5, 29, 494, 8, 124, 4, 882, 496, 4, 341, 7, 27, 846, 10, 10, 29, 9, 1906, 8, 97, 6, 236, 11120, 1311, 8, 4, 23643, 7, 31, 7, 29851, 91, 22793, 3987, 70, 4, 882, 30, 579, 42, 9, 12, 32, 11, 537, 10, 10, 11, 14, 65, 44, 537, 75, 11876, 1775, 3353, 12716, 1846, 4, 11286, 7, 154, 5, 4, 518, 53, 13243, 11286, 7, 3211, 882, 11, 399, 38, 75, 257, 3807, 19, 18223, 17, 29, 456, 4, 65, 7, 27, 205, 113, 10, 10, 2, 4, 22793, 10359, 9, 242, 4, 91, 1202, 11377, 5, 2070, 307, 22, 7, 5168, 126, 93, 40, 18223, 13, 188, 1076, 3222, 19, 4, 13465, 7, 2348, 537, 23, 53, 537, 21, 82, 40, 18223, 13, 2, 14, 280, 13, 219, 4, 2, 431, 758, 859, 4, 953, 1052, 12283, 7, 5991, 5, 94, 40, 25, 238, 60, 2, 4, 15812, 804, 27767, 7, 4, 9941, 132, 8, 67, 6, 22, 15, 9, 283, 8, 5168, 14, 31, 9, 242, 955, 48, 25, 279, 22148, 23, 12, 1685, 195, 25, 238, 60, 796, 13713, 4, 671, 7, 2804, 5, 4, 559, 154, 888, 7, 726, 50, 26, 49, 7008, 15, 566, 30, 579, 21, 64, 2574]\n",
            "Label:\n",
            "1\n"
          ]
        }
      ]
    },
    {
      "cell_type": "code",
      "metadata": {
        "id": "jiMtP6VU44Qv",
        "outputId": "a4554970-4fa4-4882-8ee8-a00c206dec97",
        "colab": {
          "base_uri": "https://localhost:8080/"
        }
      },
      "source": [
        "# Get the mapping from each word in vocabulary to its index\n",
        "word_to_index = imdb.get_word_index()\n",
        "\n",
        "index_to_word = dict ( [(idx, word) for (word, idx) in word_to_index.items()] )\n",
        "\n",
        "\n",
        "# Check the review in English too\n",
        "english_review = ' '.join ( [index_to_word.get(idx-3, '?') for idx in train_data[3]] )\n",
        "\n",
        "print(\"Earlier training example in English:\")\n",
        "print(english_review)"
      ],
      "execution_count": 8,
      "outputs": [
        {
          "output_type": "stream",
          "name": "stdout",
          "text": [
            "Downloading data from https://storage.googleapis.com/tensorflow/tf-keras-datasets/imdb_word_index.json\n",
            "1641221/1641221 [==============================] - 0s 0us/step\n",
            "Earlier training example in English:\n",
            "? the scots excel at storytelling the traditional sort many years after the event i can still see in my mind's eye an elderly lady my friend's mother retelling the battle of ? she makes the characters come alive her passion is that of an eye witness one to the events on the ? heath a mile or so from where she lives br br of course it happened many years before she was born but you wouldn't guess from the way she tells it the same story is told in bars the length and breadth of scotland as i discussed it with a friend one night in ? a local cut in to give his version the discussion continued to closing time br br stories passed down like this become part of our being who doesn't remember the stories our parents told us when we were children they become our invisible world and as we grow older they maybe still serve as inspiration or as an emotional reservoir fact and fiction blend with aspiration role models warning stories archetypes magic and mystery br br my name is ? like my grandfather and his grandfather before him our protagonist introduces himself to us and also introduces the story that stretches back through generations it produces stories within stories stories that evoke the impenetrable wonder of scotland its rugged mountains shrouded in mists the stuff of legend yet ? is rooted in reality this is what gives it its special charm it has a rough beauty and authenticity tempered with some of the finest gaelic singing you will ever hear br br ? angus visits his grandfather in hospital shortly before his death he burns with frustration part of him yearns to be in the twenty first century to hang out in glasgow but he is raised on the western shores among a gaelic speaking community br br yet there is a deeper conflict within him he yearns to know the truth the truth behind his ? ancient stories where does fiction end and he wants to know the truth behind the death of his parents br br he is pulled to make a last fateful journey to the summit of one of scotland's most inaccessible mountains can the truth be told or is it all in stories br br in this story about stories we revisit bloody battles poisoned lovers the folklore of old and the sometimes more treacherous folklore of accepted truth in doing so we each connect with angus as he lives the story of his own life br br ? the inaccessible pinnacle is probably the most honest unpretentious and genuinely beautiful film of scotland ever made like angus i got slightly annoyed with the pretext of hanging stories on more stories but also like angus i ? this once i saw the ? picture ' forget the box office pastiche of braveheart and its like you might even ? the justly famous dramatisation of the wicker man to see a film that is true to scotland this one is probably unique if you maybe meditate on it deeply enough you might even re evaluate the power of storytelling and the age old question of whether there are some truths that cannot be told but only experienced\n"
          ]
        }
      ]
    },
    {
      "cell_type": "code",
      "metadata": {
        "id": "NlweRvfz24-u",
        "outputId": "e104b4f5-9331-4416-fe01-68df661a371c",
        "colab": {
          "base_uri": "https://localhost:8080/"
        }
      },
      "source": [
        "# Since vocabulary size is restricted to VOCAB_SIZE, no word index should be greater than VOCAB_SIZE\n",
        "max_index = max ( [max(review) for review in train_data] )\n",
        "\n",
        "print(\"VOCAB_SIZE          =\", VOCAB_SIZE)\n",
        "print(\"Max index of a word =\", max_index)"
      ],
      "execution_count": 9,
      "outputs": [
        {
          "output_type": "stream",
          "name": "stdout",
          "text": [
            "VOCAB_SIZE          = 30000\n",
            "Max index of a word = 29999\n"
          ]
        }
      ]
    },
    {
      "cell_type": "markdown",
      "metadata": {
        "id": "Yisbak53xnlf"
      },
      "source": [
        "## Prepare the dataset\n",
        "##### Pad the integer sequences"
      ]
    },
    {
      "cell_type": "code",
      "metadata": {
        "id": "rnHvWH8kJ9fY",
        "outputId": "d4bd0af8-063a-4d20-909c-40dc4515635c",
        "colab": {
          "base_uri": "https://localhost:8080/"
        }
      },
      "source": [
        "# Find and store the length of the longest review in the dataset\n",
        "max_train_length = max (len(review) for review in train_data)\n",
        "max_test_length = max (len(review) for review in test_data)\n",
        "\n",
        "max_length = max(max_train_length, max_test_length)\n",
        "print(\"Maximum length of a review in dataset:\", max_length)"
      ],
      "execution_count": 10,
      "outputs": [
        {
          "output_type": "stream",
          "name": "stdout",
          "text": [
            "Maximum length of a review in dataset: 2494\n"
          ]
        }
      ]
    },
    {
      "cell_type": "code",
      "metadata": {
        "id": "Hfz_O3p74Bfu",
        "outputId": "3f76d5a5-cca0-4dee-f00f-88cccbb357e6",
        "colab": {
          "base_uri": "https://localhost:8080/"
        }
      },
      "source": [
        "from keras.utils import pad_sequences\n",
        "\n",
        "# Pad each review in the dataset till their length = max_length\n",
        "print(\"Padding the reviews...\")\n",
        "train_data = pad_sequences (train_data, maxlen=max_length)\n",
        "test_data = pad_sequences (test_data, maxlen=max_length)\n",
        "\n",
        "print(\"Shape of train_data =\", train_data.shape)\n",
        "print(\"Shape of test_data  =\", test_data.shape)"
      ],
      "execution_count": 11,
      "outputs": [
        {
          "output_type": "stream",
          "name": "stdout",
          "text": [
            "Padding the reviews...\n",
            "Shape of train_data = (25000, 2494)\n",
            "Shape of test_data  = (25000, 2494)\n"
          ]
        }
      ]
    },
    {
      "cell_type": "markdown",
      "metadata": {
        "id": "70YJoC3JMGJ0"
      },
      "source": [
        "## Build the model\n",
        "##### I build an 1D Convolutional neural architecure using Keras Sequential API"
      ]
    },
    {
      "cell_type": "code",
      "metadata": {
        "id": "77PYHvaMBlJ4",
        "outputId": "aa6c0f0b-c70b-47d0-9a67-edb55a51d151",
        "colab": {
          "base_uri": "https://localhost:8080/"
        }
      },
      "source": [
        "from keras.models import Sequential\n",
        "from keras.layers import Embedding, Conv1D, MaxPooling1D, GlobalMaxPooling1D, Dense, Dropout, Flatten, GlobalAveragePooling1D\n",
        "from keras.regularizers import l2\n",
        "\n",
        "model = Sequential()\n",
        "model.add(Embedding(input_dim = VOCAB_SIZE,\n",
        "                    output_dim = 128,\n",
        "                    input_length = max_length))\n",
        "model.add(Conv1D(filters = 128,\n",
        "                 kernel_size = 3,\n",
        "                 strides = 1,\n",
        "                 padding = 'valid',\n",
        "                 activation = 'relu',\n",
        "                ))\n",
        "model.add(MaxPooling1D(pool_size = 10))\n",
        "model.add(GlobalMaxPooling1D())\n",
        "model.add(Dense(units = 54,\n",
        "                activation = 'relu'))\n",
        "model.add(Dense(units = 1,\n",
        "                activation = 'sigmoid'))\n",
        "\n",
        "model.summary()"
      ],
      "execution_count": 12,
      "outputs": [
        {
          "output_type": "stream",
          "name": "stdout",
          "text": [
            "Model: \"sequential\"\n",
            "_________________________________________________________________\n",
            " Layer (type)                Output Shape              Param #   \n",
            "=================================================================\n",
            " embedding (Embedding)       (None, 2494, 128)         3840000   \n",
            "                                                                 \n",
            " conv1d (Conv1D)             (None, 2492, 128)         49280     \n",
            "                                                                 \n",
            " max_pooling1d (MaxPooling1D  (None, 249, 128)         0         \n",
            " )                                                               \n",
            "                                                                 \n",
            " global_max_pooling1d (Globa  (None, 128)              0         \n",
            " lMaxPooling1D)                                                  \n",
            "                                                                 \n",
            " dense (Dense)               (None, 54)                6966      \n",
            "                                                                 \n",
            " dense_1 (Dense)             (None, 1)                 55        \n",
            "                                                                 \n",
            "=================================================================\n",
            "Total params: 3,896,301\n",
            "Trainable params: 3,896,301\n",
            "Non-trainable params: 0\n",
            "_________________________________________________________________\n"
          ]
        }
      ]
    },
    {
      "cell_type": "code",
      "metadata": {
        "id": "sfJx6UWsCaMa"
      },
      "source": [
        "model.compile(optimizer = 'adam',\n",
        "              loss = 'binary_crossentropy',\n",
        "              metrics = ['acc'])"
      ],
      "execution_count": 13,
      "outputs": []
    },
    {
      "cell_type": "markdown",
      "metadata": {
        "id": "SBJiuzndFsSY"
      },
      "source": [
        "## Train the model and tune the Hyperparameters"
      ]
    },
    {
      "cell_type": "code",
      "metadata": {
        "id": "srGUBB9bCV7e",
        "colab": {
          "base_uri": "https://localhost:8080/"
        },
        "outputId": "884851bd-8ff7-4302-9377-349d3b402fa6"
      },
      "source": [
        "from keras.callbacks import ModelCheckpoint, EarlyStopping, LearningRateScheduler, ReduceLROnPlateau, TerminateOnNaN\n",
        "\n",
        "callback_list = [\n",
        "                 ModelCheckpoint(\n",
        "                     filepath = '/content/drive/My Drive/Personal/Sentiment Analysis/best_CNNmodel.hdf5',\n",
        "                     monitor = 'val_acc',\n",
        "                     verbose = 1,\n",
        "                     save_best_only = True,\n",
        "                     save_weights_only = False,\n",
        "                     mode = 'max',\n",
        "                     period = 1\n",
        "                 ),\n",
        "\n",
        "                 EarlyStopping(\n",
        "                    monitor = 'val_acc',\n",
        "                    patience = 25,\n",
        "                    verbose = 1,\n",
        "                    mode = 'max',\n",
        "                    baseline = 0.5,\n",
        "                    restore_best_weights = True\n",
        "                 ),\n",
        "\n",
        "                 ReduceLROnPlateau(\n",
        "                     monitor = 'val_loss',\n",
        "                     factor = 0.2,\n",
        "                     patience = 8,\n",
        "                     verbose = 1,\n",
        "                     mode = 'min',\n",
        "                     cooldown = 1,\n",
        "                     min_lr = 0\n",
        "                 ),\n",
        "\n",
        "                 TerminateOnNaN()\n",
        "]"
      ],
      "execution_count": 14,
      "outputs": [
        {
          "output_type": "stream",
          "name": "stderr",
          "text": [
            "WARNING:tensorflow:`period` argument is deprecated. Please use `save_freq` to specify the frequency in number of batches seen.\n"
          ]
        }
      ]
    },
    {
      "cell_type": "code",
      "metadata": {
        "id": "qPn_qz1ZIxWQ",
        "outputId": "5bda2fe2-a66e-4b51-8e49-aca66c169d8f",
        "colab": {
          "base_uri": "https://localhost:8080/"
        }
      },
      "source": [
        "history = model.fit(train_data,\n",
        "                    train_labels,\n",
        "                    epochs = 121,\n",
        "                    batch_size = 64,\n",
        "                    verbose = 1,\n",
        "                    callbacks = callback_list,\n",
        "                    validation_split = 0.006,\n",
        "                    shuffle = True)"
      ],
      "execution_count": 15,
      "outputs": [
        {
          "output_type": "stream",
          "name": "stdout",
          "text": [
            "Epoch 1/121\n",
            "389/389 [==============================] - ETA: 0s - loss: 0.3958 - acc: 0.8117\n",
            "Epoch 1: val_acc improved from -inf to 0.88667, saving model to /content/drive/My Drive/Personal/Sentiment Analysis/best_CNNmodel.hdf5\n",
            "389/389 [==============================] - 96s 218ms/step - loss: 0.3958 - acc: 0.8117 - val_loss: 0.2796 - val_acc: 0.8867 - lr: 0.0010\n",
            "Epoch 2/121\n",
            "389/389 [==============================] - ETA: 0s - loss: 0.1546 - acc: 0.9442\n",
            "Epoch 2: val_acc improved from 0.88667 to 0.90000, saving model to /content/drive/My Drive/Personal/Sentiment Analysis/best_CNNmodel.hdf5\n",
            "389/389 [==============================] - 53s 137ms/step - loss: 0.1546 - acc: 0.9442 - val_loss: 0.2524 - val_acc: 0.9000 - lr: 0.0010\n",
            "Epoch 3/121\n",
            "389/389 [==============================] - ETA: 0s - loss: 0.0341 - acc: 0.9920\n",
            "Epoch 3: val_acc improved from 0.90000 to 0.90667, saving model to /content/drive/My Drive/Personal/Sentiment Analysis/best_CNNmodel.hdf5\n",
            "389/389 [==============================] - 44s 113ms/step - loss: 0.0341 - acc: 0.9920 - val_loss: 0.2644 - val_acc: 0.9067 - lr: 0.0010\n",
            "Epoch 4/121\n",
            "389/389 [==============================] - ETA: 0s - loss: 0.0047 - acc: 0.9998\n",
            "Epoch 4: val_acc did not improve from 0.90667\n",
            "389/389 [==============================] - 38s 98ms/step - loss: 0.0047 - acc: 0.9998 - val_loss: 0.3068 - val_acc: 0.9067 - lr: 0.0010\n",
            "Epoch 5/121\n",
            "389/389 [==============================] - ETA: 0s - loss: 0.0012 - acc: 1.0000\n",
            "Epoch 5: val_acc did not improve from 0.90667\n",
            "389/389 [==============================] - 28s 72ms/step - loss: 0.0012 - acc: 1.0000 - val_loss: 0.4214 - val_acc: 0.8933 - lr: 0.0010\n",
            "Epoch 6/121\n",
            "389/389 [==============================] - ETA: 0s - loss: 5.5576e-04 - acc: 1.0000\n",
            "Epoch 6: val_acc did not improve from 0.90667\n",
            "389/389 [==============================] - 25s 64ms/step - loss: 5.5576e-04 - acc: 1.0000 - val_loss: 0.3451 - val_acc: 0.9067 - lr: 0.0010\n",
            "Epoch 7/121\n",
            "389/389 [==============================] - ETA: 0s - loss: 2.8989e-04 - acc: 1.0000\n",
            "Epoch 7: val_acc did not improve from 0.90667\n",
            "389/389 [==============================] - 24s 61ms/step - loss: 2.8989e-04 - acc: 1.0000 - val_loss: 0.3582 - val_acc: 0.9067 - lr: 0.0010\n",
            "Epoch 8/121\n",
            "389/389 [==============================] - ETA: 0s - loss: 1.9136e-04 - acc: 1.0000\n",
            "Epoch 8: val_acc did not improve from 0.90667\n",
            "389/389 [==============================] - 22s 55ms/step - loss: 1.9136e-04 - acc: 1.0000 - val_loss: 0.3782 - val_acc: 0.9067 - lr: 0.0010\n",
            "Epoch 9/121\n",
            "389/389 [==============================] - ETA: 0s - loss: 1.3409e-04 - acc: 1.0000\n",
            "Epoch 9: val_acc did not improve from 0.90667\n",
            "389/389 [==============================] - 17s 45ms/step - loss: 1.3409e-04 - acc: 1.0000 - val_loss: 0.3864 - val_acc: 0.9067 - lr: 0.0010\n",
            "Epoch 10/121\n",
            "389/389 [==============================] - ETA: 0s - loss: 9.7326e-05 - acc: 1.0000\n",
            "Epoch 10: val_acc did not improve from 0.90667\n",
            "\n",
            "Epoch 10: ReduceLROnPlateau reducing learning rate to 0.00020000000949949026.\n",
            "389/389 [==============================] - 16s 42ms/step - loss: 9.7326e-05 - acc: 1.0000 - val_loss: 0.4015 - val_acc: 0.9067 - lr: 0.0010\n",
            "Epoch 11/121\n",
            "389/389 [==============================] - ETA: 0s - loss: 7.7181e-05 - acc: 1.0000\n",
            "Epoch 11: val_acc did not improve from 0.90667\n",
            "389/389 [==============================] - 17s 44ms/step - loss: 7.7181e-05 - acc: 1.0000 - val_loss: 0.4012 - val_acc: 0.9067 - lr: 2.0000e-04\n",
            "Epoch 12/121\n",
            "389/389 [==============================] - ETA: 0s - loss: 7.2434e-05 - acc: 1.0000\n",
            "Epoch 12: val_acc did not improve from 0.90667\n",
            "389/389 [==============================] - 16s 42ms/step - loss: 7.2434e-05 - acc: 1.0000 - val_loss: 0.4006 - val_acc: 0.9067 - lr: 2.0000e-04\n",
            "Epoch 13/121\n",
            "389/389 [==============================] - ETA: 0s - loss: 6.7379e-05 - acc: 1.0000\n",
            "Epoch 13: val_acc did not improve from 0.90667\n",
            "389/389 [==============================] - 17s 44ms/step - loss: 6.7379e-05 - acc: 1.0000 - val_loss: 0.4045 - val_acc: 0.9067 - lr: 2.0000e-04\n",
            "Epoch 14/121\n",
            "389/389 [==============================] - ETA: 0s - loss: 6.2039e-05 - acc: 1.0000\n",
            "Epoch 14: val_acc did not improve from 0.90667\n",
            "389/389 [==============================] - 16s 42ms/step - loss: 6.2039e-05 - acc: 1.0000 - val_loss: 0.4087 - val_acc: 0.9067 - lr: 2.0000e-04\n",
            "Epoch 15/121\n",
            "389/389 [==============================] - ETA: 0s - loss: 5.6544e-05 - acc: 1.0000\n",
            "Epoch 15: val_acc did not improve from 0.90667\n",
            "389/389 [==============================] - 15s 38ms/step - loss: 5.6544e-05 - acc: 1.0000 - val_loss: 0.4151 - val_acc: 0.9067 - lr: 2.0000e-04\n",
            "Epoch 16/121\n",
            "389/389 [==============================] - ETA: 0s - loss: 5.0994e-05 - acc: 1.0000\n",
            "Epoch 16: val_acc did not improve from 0.90667\n",
            "389/389 [==============================] - 14s 37ms/step - loss: 5.0994e-05 - acc: 1.0000 - val_loss: 0.4154 - val_acc: 0.9067 - lr: 2.0000e-04\n",
            "Epoch 17/121\n",
            "389/389 [==============================] - ETA: 0s - loss: 4.5468e-05 - acc: 1.0000\n",
            "Epoch 17: val_acc did not improve from 0.90667\n",
            "389/389 [==============================] - 16s 41ms/step - loss: 4.5468e-05 - acc: 1.0000 - val_loss: 0.4195 - val_acc: 0.9067 - lr: 2.0000e-04\n",
            "Epoch 18/121\n",
            "389/389 [==============================] - ETA: 0s - loss: 4.0106e-05 - acc: 1.0000\n",
            "Epoch 18: val_acc did not improve from 0.90667\n",
            "\n",
            "Epoch 18: ReduceLROnPlateau reducing learning rate to 4.0000001899898055e-05.\n",
            "389/389 [==============================] - 14s 36ms/step - loss: 4.0106e-05 - acc: 1.0000 - val_loss: 0.4237 - val_acc: 0.9067 - lr: 2.0000e-04\n",
            "Epoch 19/121\n",
            "389/389 [==============================] - ETA: 0s - loss: 3.6178e-05 - acc: 1.0000\n",
            "Epoch 19: val_acc did not improve from 0.90667\n",
            "389/389 [==============================] - 15s 39ms/step - loss: 3.6178e-05 - acc: 1.0000 - val_loss: 0.4257 - val_acc: 0.9067 - lr: 4.0000e-05\n",
            "Epoch 20/121\n",
            "389/389 [==============================] - ETA: 0s - loss: 3.5063e-05 - acc: 1.0000\n",
            "Epoch 20: val_acc did not improve from 0.90667\n",
            "389/389 [==============================] - 14s 37ms/step - loss: 3.5063e-05 - acc: 1.0000 - val_loss: 0.4278 - val_acc: 0.9067 - lr: 4.0000e-05\n",
            "Epoch 21/121\n",
            "389/389 [==============================] - ETA: 0s - loss: 3.3809e-05 - acc: 1.0000\n",
            "Epoch 21: val_acc did not improve from 0.90667\n",
            "389/389 [==============================] - 14s 36ms/step - loss: 3.3809e-05 - acc: 1.0000 - val_loss: 0.4298 - val_acc: 0.9067 - lr: 4.0000e-05\n",
            "Epoch 22/121\n",
            "389/389 [==============================] - ETA: 0s - loss: 3.2389e-05 - acc: 1.0000\n",
            "Epoch 22: val_acc did not improve from 0.90667\n",
            "389/389 [==============================] - 13s 32ms/step - loss: 3.2389e-05 - acc: 1.0000 - val_loss: 0.4305 - val_acc: 0.9067 - lr: 4.0000e-05\n",
            "Epoch 23/121\n",
            "389/389 [==============================] - ETA: 0s - loss: 3.0808e-05 - acc: 1.0000\n",
            "Epoch 23: val_acc did not improve from 0.90667\n",
            "389/389 [==============================] - 13s 34ms/step - loss: 3.0808e-05 - acc: 1.0000 - val_loss: 0.4314 - val_acc: 0.9067 - lr: 4.0000e-05\n",
            "Epoch 24/121\n",
            "389/389 [==============================] - ETA: 0s - loss: 2.9093e-05 - acc: 1.0000\n",
            "Epoch 24: val_acc did not improve from 0.90667\n",
            "389/389 [==============================] - 13s 34ms/step - loss: 2.9093e-05 - acc: 1.0000 - val_loss: 0.4352 - val_acc: 0.9067 - lr: 4.0000e-05\n",
            "Epoch 25/121\n",
            "389/389 [==============================] - ETA: 0s - loss: 2.7241e-05 - acc: 1.0000\n",
            "Epoch 25: val_acc did not improve from 0.90667\n",
            "389/389 [==============================] - 14s 35ms/step - loss: 2.7241e-05 - acc: 1.0000 - val_loss: 0.4385 - val_acc: 0.9067 - lr: 4.0000e-05\n",
            "Epoch 26/121\n",
            "389/389 [==============================] - ETA: 0s - loss: 2.5269e-05 - acc: 1.0000\n",
            "Epoch 26: val_acc did not improve from 0.90667\n",
            "\n",
            "Epoch 26: ReduceLROnPlateau reducing learning rate to 8.000000525498762e-06.\n",
            "389/389 [==============================] - 13s 34ms/step - loss: 2.5269e-05 - acc: 1.0000 - val_loss: 0.4404 - val_acc: 0.9067 - lr: 4.0000e-05\n",
            "Epoch 27/121\n",
            "389/389 [==============================] - ETA: 0s - loss: 2.3723e-05 - acc: 1.0000\n",
            "Epoch 27: val_acc did not improve from 0.90667\n",
            "389/389 [==============================] - 14s 37ms/step - loss: 2.3723e-05 - acc: 1.0000 - val_loss: 0.4411 - val_acc: 0.9067 - lr: 8.0000e-06\n",
            "Epoch 28/121\n",
            "389/389 [==============================] - ETA: 0s - loss: 2.3261e-05 - acc: 1.0000\n",
            "Epoch 28: val_acc did not improve from 0.90667\n",
            "Restoring model weights from the end of the best epoch: 3.\n",
            "389/389 [==============================] - 13s 34ms/step - loss: 2.3261e-05 - acc: 1.0000 - val_loss: 0.4417 - val_acc: 0.9067 - lr: 8.0000e-06\n",
            "Epoch 28: early stopping\n"
          ]
        }
      ]
    },
    {
      "cell_type": "code",
      "metadata": {
        "id": "YpB5k5W8EXWC",
        "colab": {
          "base_uri": "https://localhost:8080/"
        },
        "outputId": "b09b9928-23e3-4872-b0bb-60395f75b537"
      },
      "source": [
        "print(\"Best Validation Accuracy =\", max(history.history['val_acc'])*100)\n",
        "print(\"Best Training Accuracy =\", max(history.history['acc'])*100)"
      ],
      "execution_count": 16,
      "outputs": [
        {
          "output_type": "stream",
          "name": "stdout",
          "text": [
            "Best Validation Accuracy = 90.66666960716248\n",
            "Best Training Accuracy = 100.0\n"
          ]
        }
      ]
    },
    {
      "cell_type": "markdown",
      "metadata": {
        "id": "R_qz4VyARJvA"
      },
      "source": [
        "## Plot the results"
      ]
    },
    {
      "cell_type": "code",
      "metadata": {
        "id": "qVyJ9YwwMou3",
        "outputId": "617c6eca-79bc-4f52-c9f3-fb6ed0e5bd12",
        "colab": {
          "base_uri": "https://localhost:8080/",
          "height": 472
        }
      },
      "source": [
        "import matplotlib.pyplot as plt\n",
        "\n",
        "train_acc = history.history['acc']\n",
        "val_acc = history.history['val_acc']\n",
        "\n",
        "epochs = range(1, len(train_acc) + 1)\n",
        "\n",
        "plt.plot(epochs, train_acc, 'r', label='Training accuracy')\n",
        "plt.plot(epochs, val_acc, 'b', label='Validation accuracy')\n",
        "plt.title('Training & Validation accuracy')\n",
        "plt.xlabel('Epochs')\n",
        "plt.ylabel('Accuracy')\n",
        "plt.legend()\n",
        "\n",
        "plt.show()"
      ],
      "execution_count": 17,
      "outputs": [
        {
          "output_type": "display_data",
          "data": {
            "text/plain": [
              "<Figure size 640x480 with 1 Axes>"
            ],
            "image/png": "[encoded data removed]"
          },
          "metadata": {}
        }
      ]
    },
    {
      "cell_type": "code",
      "metadata": {
        "id": "pfWPq9BsEAly",
        "outputId": "cc72518e-a7a1-4f4c-c326-6b9a9b5defde",
        "colab": {
          "base_uri": "https://localhost:8080/",
          "height": 472
        }
      },
      "source": [
        "train_loss = history.history['loss']\n",
        "val_loss = history.history['val_loss']\n",
        "\n",
        "plt.plot(epochs, train_loss, 'r', label=\"Training loss\")\n",
        "plt.plot(epochs, val_loss, 'b', label='Validation loss')\n",
        "plt.title('Training & Validation loss')\n",
        "plt.xlabel('Epochs')\n",
        "plt.ylabel('Loss')\n",
        "plt.legend()\n",
        "\n",
        "plt.show()"
      ],
      "execution_count": 18,
      "outputs": [
        {
          "output_type": "display_data",
          "data": {
            "text/plain": [
              "<Figure size 640x480 with 1 Axes>"
            ],
            "image/png": "[encoded data removed]"
          },
          "metadata": {}
        }
      ]
    },
    {
      "cell_type": "markdown",
      "metadata": {
        "id": "ad7sVK_UnYv1"
      },
      "source": [
        "## Test the final model"
      ]
    },
    {
      "cell_type": "code",
      "metadata": {
        "id": "ovChwzqFG1fA",
        "outputId": "a383d127-7353-45c9-e13e-1c8a3791f934",
        "colab": {
          "base_uri": "https://localhost:8080/"
        }
      },
      "source": [
        "test_metrics = model.evaluate(test_data, test_labels)"
      ],
      "execution_count": 19,
      "outputs": [
        {
          "output_type": "stream",
          "name": "stdout",
          "text": [
            "782/782 [==============================] - 5s 7ms/step - loss: 0.3061 - acc: 0.8937\n"
          ]
        }
      ]
    },
    {
      "cell_type": "code",
      "metadata": {
        "id": "8KaU-nBHCDTU",
        "outputId": "ffa99675-4104-4c52-c6c4-8c2c854a9939",
        "colab": {
          "base_uri": "https://localhost:8080/"
        }
      },
      "source": [
        "test_accuracy = test_metrics[1]\n",
        "test_loss = test_metrics[0]\n",
        "\n",
        "print(\"Test Accuracy :\", test_accuracy)"
      ],
      "execution_count": 20,
      "outputs": [
        {
          "output_type": "stream",
          "name": "stdout",
          "text": [
            "Test Accuracy : 0.8937199711799622\n"
          ]
        }
      ]
    },
    {
      "cell_type": "code",
      "metadata": {
        "id": "JseztbpJGa1q",
        "colab": {
          "base_uri": "https://localhost:8080/"
        },
        "outputId": "29531fc3-6eeb-49d4-b1a6-6ad4a1ff21df"
      },
      "source": [
        "from google.colab import drive\n",
        "drive.mount('/content/gdrive')\n",
        "\n",
        "model_save_name = 'EN_Sen_Analysis_Model.h5'\n",
        "path = F\"/content/gdrive/My Drive/{model_save_name}\"\n",
        "model.save(path)\n"
      ],
      "execution_count": 22,
      "outputs": [
        {
          "output_type": "stream",
          "name": "stdout",
          "text": [
            "Drive already mounted at /content/gdrive; to attempt to forcibly remount, call drive.mount(\"/content/gdrive\", force_remount=True).\n"
          ]
        }
      ]
    }
  ]
}