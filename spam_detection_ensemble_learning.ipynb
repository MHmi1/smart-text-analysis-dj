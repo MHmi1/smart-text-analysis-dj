{
  "cells": [
    {
      "cell_type": "code",
      "execution_count": null,
      "metadata": {
        "colab": {
          "base_uri": "https://localhost:8080/",
          "height": 408
        },
        "id": "SP6GnpGmIqmQ",
        "outputId": "55650777-e2d4-45ae-97b6-b3044e5f2900"
      },
      "outputs": [],
      "source": [
        "#email/sms spam detecion module using ensemble learning using : 1- MultinomialNB()  2-LinearSVC()  3-RandomForest()\n",
        "import os\n",
        "import numpy as np\n",
        "import pandas as pd\n",
        "import matplotlib.pyplot as plt\n",
        "import joblib\n",
        "from sklearn.feature_extraction.text import CountVectorizer\n",
        "from sklearn.feature_extraction.text import TfidfTransformer\n",
        "from sklearn.metrics import accuracy_score, classification_report, ConfusionMatrixDisplay\n",
        "from sklearn.model_selection import train_test_split\n",
        "from sklearn.preprocessing import StandardScaler\n",
        "from sklearn.naive_bayes import MultinomialNB\n",
        "from sklearn.svm import LinearSVC\n",
        "from sklearn.ensemble import VotingClassifier\n",
        "from google.colab import drive\n",
        "from sklearn.ensemble import RandomForestClassifier\n",
        "from sklearn.model_selection import GridSearchCV\n",
        "\n",
        "# Downloading Dataset into Colab Environment\n",
        "!curl \"https://raw.githubusercontent.com/erfan-hamidi/smart-text-analysis-dj/master/sms_dataset.tsv\" --output sms_dataset.tsv\n",
        "\n",
        "df = pd.read_csv(\"sms_dataset.tsv\", delimiter='\\t')\n",
        "\n",
        "X = df.message   # X_feature\n",
        "y = df.label   # y_label\n",
        "X_train, X_test, y_train, y_test = train_test_split(X, y, test_size=0.25, random_state=42)\n",
        "\n",
        "count_vectorizer = CountVectorizer()\n",
        "tfidf_transformer = TfidfTransformer()\n",
        "\n",
        "count_vectorizer.fit(X_train)\n",
        "X_train_cv = count_vectorizer.transform(X_train)\n",
        "tfidf_transformer.fit(X_train_cv)\n",
        "X_train_tfidf = tfidf_transformer.transform(X_train_cv)\n",
        "\n",
        "X_test_cv = count_vectorizer.transform(X_test)\n",
        "X_test_tfidf = tfidf_transformer.transform(X_test_cv)\n",
        "\n",
        "# Initialize the classifiers\n",
        "naive_bayes = MultinomialNB()\n",
        "linear_svc = LinearSVC(C=0.8)\n",
        "random_forest = RandomForestClassifier()\n",
        "\n",
        "param_grid = {\n",
        "    'n_estimators': [50, 100, 150],\n",
        "    'max_depth': [10, 20, 25],\n",
        "    'min_samples_split': [2, 5, 10],\n",
        "    'min_samples_leaf': [1, 2, 4]\n",
        "}\n",
        "\n",
        "grid_search = GridSearchCV(estimator=random_forest, param_grid=param_grid, cv=3)\n",
        "grid_search.fit(X_train_tfidf, y_train)\n",
        "best_params = grid_search.best_params_\n",
        "\n",
        "best_random_forest = RandomForestClassifier(**best_params)\n",
        "\n",
        "# Create the voting classifier\n",
        "voting_classifier = VotingClassifier(\n",
        "    estimators=[('nb', naive_bayes), ('svc', linear_svc), ('dt', best_random_forest)],\n",
        "    voting='hard'  # Use 'hard' voting for majority voting\n",
        ")\n",
        "\n",
        "\n",
        "voting_classifier.fit(X_train_tfidf, y_train)\n",
        "\n",
        "\n",
        "prediction = voting_classifier.predict(X_test_tfidf)\n",
        "\n",
        "\n",
        "ConfusionMatrixDisplay.from_estimator(voting_classifier, X_test_tfidf, y_test)\n",
        "plt.show()\n",
        "\n",
        "\n",
        "print(classification_report(y_test, prediction))\n",
        "print(\"Accuracy: \", accuracy_score(y_test, prediction))\n",
        "\n",
        "\n",
        "model_filename = 'ensemble_model.joblib'\n",
        "joblib.dump(voting_classifier,\"/content/drive\"+ model_filename)\n",
        "\n",
        "\n",
        "def predict_spam(input_string):\n",
        "    # Load the saved model\n",
        "    loaded_model = joblib.load(\"/content/drive\"+model_filename)\n",
        "\n",
        "\n",
        "    input_tfidf = tfidf_transformer.transform(count_vectorizer.transform([input_string]))\n",
        "\n",
        "\n",
        "    prediction = loaded_model.predict(input_tfidf)\n",
        "\n",
        "    return \"Spam\" if prediction[0] == 1 else \"Not Spam\"\n",
        "input_string =input()\n",
        "result = predict_spam(input_string)\n",
        "print(f\"Input: '{input_string}' - Prediction: {result}\")\n",
        "\n",
        "\n"
      ]
    },
    {
      "cell_type": "code",
      "execution_count": null,
      "metadata": {
        "colab": {
          "base_uri": "https://localhost:8080/"
        },
        "id": "wb_j82Aa4mMY",
        "outputId": "3f98dfcc-6fe3-44c5-8d5a-54dc7610fdf0"
      },
      "outputs": [],
      "source": [
        "input_string =input()\n",
        "result = predict_spam(input_string)\n",
        "print(f\"Input: '{input_string}' - Prediction: {result}\")"
      ]
    }
  ],
  "metadata": {
    "colab": {
      "provenance": []
    },
    "kernelspec": {
      "display_name": "Python 3",
      "name": "python3"
    },
    "language_info": {
      "codemirror_mode": {
        "name": "ipython",
        "version": 3
      },
      "file_extension": ".py",
      "mimetype": "text/x-python",
      "name": "python",
      "nbconvert_exporter": "python",
      "pygments_lexer": "ipython3",
      "version": "3.11.4"
    }
  },
  "nbformat": 4,
  "nbformat_minor": 0
}
