{
  "nbformat": 4,
  "nbformat_minor": 0,
  "metadata": {
    "colab": {
      "provenance": [],
      "authorship_tag": "ABX9TyMLkoxTteSEoTn242ojeleU",
      "include_colab_link": true
    },
    "kernelspec": {
      "name": "python3",
      "display_name": "Python 3"
    },
    "language_info": {
      "name": "python"
    }
  },
  "cells": [
    {
      "cell_type": "markdown",
      "metadata": {
        "id": "view-in-github",
        "colab_type": "text"
      },
      "source": [
        "<a href=\"https://colab.research.google.com/github/erfan-hamidi/smart-text-analysis-dj/blob/master/spam_detection_ensemble_learning.ipynb\" target=\"_parent\"><img src=\"https://colab.research.google.com/assets/colab-badge.svg\" alt=\"Open In Colab\"/></a>"
      ]
    },
    {
      "cell_type": "code",
      "execution_count": 3,
      "metadata": {
        "colab": {
          "base_uri": "https://localhost:8080/",
          "height": 741
        },
        "id": "SP6GnpGmIqmQ",
        "outputId": "a4715096-fb23-42c7-def5-7ada2d7165f2"
      },
      "outputs": [
        {
          "output_type": "stream",
          "name": "stdout",
          "text": [
            "Drive already mounted at /content/drive; to attempt to forcibly remount, call drive.mount(\"/content/drive\", force_remount=True).\n",
            "  % Total    % Received % Xferd  Average Speed   Time    Time     Time  Current\n",
            "                                 Dload  Upload   Total   Spent    Left  Speed\n",
            "100  501k  100  501k    0     0  2510k      0 --:--:-- --:--:-- --:--:-- 2521k\n"
          ]
        },
        {
          "output_type": "display_data",
          "data": {
            "text/plain": [
              "<Figure size 640x480 with 2 Axes>"
            ],
            "image/png": "[encoded data removed]"
          },
          "metadata": {}
        },
        {
          "output_type": "stream",
          "name": "stdout",
          "text": [
            "              precision    recall  f1-score   support\n",
            "\n",
            "         ham       0.98      1.00      0.99      1448\n",
            "        spam       1.00      0.89      0.94       224\n",
            "\n",
            "    accuracy                           0.99      1672\n",
            "   macro avg       0.99      0.95      0.97      1672\n",
            "weighted avg       0.99      0.99      0.99      1672\n",
            "\n",
            "Accuracy:  0.9856459330143541\n",
            "i love you\n",
            "Input: 'i love you' - Prediction: Not Spam\n"
          ]
        }
      ],
      "source": [
        "#email/sms spam detecion module using ensemble learning using : 1- MultinomialNB()  2-LinearSVC()  3-DecisionTreeClassifier()\n",
        "import os\n",
        "import numpy as np\n",
        "import pandas as pd\n",
        "import matplotlib.pyplot as plt\n",
        "import joblib\n",
        "from sklearn.feature_extraction.text import CountVectorizer\n",
        "from sklearn.feature_extraction.text import TfidfTransformer\n",
        "from sklearn.metrics import accuracy_score, classification_report, ConfusionMatrixDisplay\n",
        "from sklearn.model_selection import train_test_split\n",
        "from sklearn.preprocessing import StandardScaler\n",
        "from sklearn.naive_bayes import MultinomialNB\n",
        "from sklearn.svm import LinearSVC\n",
        "from sklearn.tree import DecisionTreeClassifier\n",
        "from sklearn.ensemble import VotingClassifier\n",
        "from google.colab import drive\n",
        "drive.mount('/content/drive')\n",
        "\n",
        "# Downloading Dataset into Colab Environment\n",
        "!curl \"https://raw.githubusercontent.com/erfan-hamidi/smart-text-analysis-dj/master/sms_dataset.tsv\" --output sms_dataset.tsv\n",
        "\n",
        "df = pd.read_csv(\"sms_dataset.tsv\", delimiter='\\t')\n",
        "\n",
        "X = df.message   # X_feature\n",
        "y = df.label   # y_label\n",
        "X_train, X_test, y_train, y_test = train_test_split(X, y, test_size=0.3, random_state=42)\n",
        "\n",
        "count_vectorizer = CountVectorizer()\n",
        "tfidf_transformer = TfidfTransformer()\n",
        "\n",
        "count_vectorizer.fit(X_train)\n",
        "X_train_cv = count_vectorizer.transform(X_train)\n",
        "tfidf_transformer.fit(X_train_cv)\n",
        "X_train_tfidf = tfidf_transformer.transform(X_train_cv)\n",
        "\n",
        "X_test_cv = count_vectorizer.transform(X_test)\n",
        "X_test_tfidf = tfidf_transformer.transform(X_test_cv)\n",
        "\n",
        "# Initialize the classifiers\n",
        "naive_bayes = MultinomialNB()\n",
        "linear_svc = LinearSVC()\n",
        "decision_tree = DecisionTreeClassifier()\n",
        "\n",
        "# Create the voting classifier\n",
        "voting_classifier = VotingClassifier(\n",
        "    estimators=[('nb', naive_bayes), ('svc', linear_svc), ('dt', decision_tree)],\n",
        "    voting='hard'  # Use 'hard' voting for majority voting\n",
        ")\n",
        "\n",
        "\n",
        "voting_classifier.fit(X_train_tfidf, y_train)\n",
        "\n",
        "\n",
        "prediction = voting_classifier.predict(X_test_tfidf)\n",
        "\n",
        "\n",
        "ConfusionMatrixDisplay.from_estimator(voting_classifier, X_test_tfidf, y_test)\n",
        "plt.show()\n",
        "\n",
        "\n",
        "print(classification_report(y_test, prediction))\n",
        "print(\"Accuracy: \", accuracy_score(y_test, prediction))\n",
        "\n",
        "\n",
        "model_filename = 'ensemble_model.joblib'\n",
        "joblib.dump(voting_classifier,\"/content/drive\"+ model_filename)\n",
        "\n",
        "\n",
        "def predict_spam(input_string):\n",
        "    # Load the saved model\n",
        "    loaded_model = joblib.load(\"/content/drive\"+model_filename)\n",
        "\n",
        "\n",
        "    input_tfidf = tfidf_transformer.transform(count_vectorizer.transform([input_string]))\n",
        "\n",
        "\n",
        "    prediction = loaded_model.predict(input_tfidf)\n",
        "\n",
        "    return \"Spam\" if prediction[0] == 1 else \"Not Spam\"\n",
        "input_string =input()\n",
        "result = predict_spam(input_string)\n",
        "print(f\"Input: '{input_string}' - Prediction: {result}\")\n",
        "\n",
        "\n"
      ]
    }
  ]
}